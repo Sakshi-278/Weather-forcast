{
 "cells": [
  {
   "cell_type": "code",
   "execution_count": 1,
   "id": "d4581a6f",
   "metadata": {},
   "outputs": [],
   "source": [
    "import pandas as pd\n",
    "import numpy as np\n",
    "import datetime as dt\n",
    "\n",
    "import seaborn as sns\n",
    "import matplotlib.pyplot as plt\n",
    "import matplotlib.dates as mdates\n",
    "\n",
    "import datetime as dt\n",
    "\n",
    "from matplotlib.pyplot import rcParams\n",
    "\n",
    "import datetime\n",
    "\n",
    "from sklearn import linear_model\n",
    "from sklearn.model_selection import train_test_split\n",
    "from sklearn.metrics import mean_squared_error, r2_score\n",
    "\n",
    "\n",
    "from sklearn.preprocessing import PolynomialFeatures\n",
    "from sklearn import preprocessing\n",
    "\n",
    "import warnings\n",
    "warnings.filterwarnings('ignore')\n"
   ]
  },
  {
   "cell_type": "code",
   "execution_count": 2,
   "id": "6142f762",
   "metadata": {},
   "outputs": [
    {
     "data": {
      "text/html": [
       "<div>\n",
       "<style scoped>\n",
       "    .dataframe tbody tr th:only-of-type {\n",
       "        vertical-align: middle;\n",
       "    }\n",
       "\n",
       "    .dataframe tbody tr th {\n",
       "        vertical-align: top;\n",
       "    }\n",
       "\n",
       "    .dataframe thead th {\n",
       "        text-align: right;\n",
       "    }\n",
       "</style>\n",
       "<table border=\"1\" class=\"dataframe\">\n",
       "  <thead>\n",
       "    <tr style=\"text-align: right;\">\n",
       "      <th></th>\n",
       "      <th>Formatted Date</th>\n",
       "      <th>Summary</th>\n",
       "      <th>Precip Type</th>\n",
       "      <th>Temperature (C)</th>\n",
       "      <th>Apparent Temperature (C)</th>\n",
       "      <th>Humidity</th>\n",
       "      <th>Wind Speed (km/h)</th>\n",
       "      <th>Wind Bearing (degrees)</th>\n",
       "      <th>Visibility (km)</th>\n",
       "      <th>Loud Cover</th>\n",
       "      <th>Pressure (millibars)</th>\n",
       "      <th>Daily Summary</th>\n",
       "    </tr>\n",
       "  </thead>\n",
       "  <tbody>\n",
       "    <tr>\n",
       "      <th>0</th>\n",
       "      <td>2006-04-01 00:00:00.000 +0200</td>\n",
       "      <td>Partly Cloudy</td>\n",
       "      <td>rain</td>\n",
       "      <td>9.472222</td>\n",
       "      <td>7.388889</td>\n",
       "      <td>0.89</td>\n",
       "      <td>14.1197</td>\n",
       "      <td>251.0</td>\n",
       "      <td>15.8263</td>\n",
       "      <td>0.0</td>\n",
       "      <td>1015.13</td>\n",
       "      <td>Partly cloudy throughout the day.</td>\n",
       "    </tr>\n",
       "    <tr>\n",
       "      <th>1</th>\n",
       "      <td>2006-04-01 01:00:00.000 +0200</td>\n",
       "      <td>Partly Cloudy</td>\n",
       "      <td>rain</td>\n",
       "      <td>9.355556</td>\n",
       "      <td>7.227778</td>\n",
       "      <td>0.86</td>\n",
       "      <td>14.2646</td>\n",
       "      <td>259.0</td>\n",
       "      <td>15.8263</td>\n",
       "      <td>0.0</td>\n",
       "      <td>1015.63</td>\n",
       "      <td>Partly cloudy throughout the day.</td>\n",
       "    </tr>\n",
       "    <tr>\n",
       "      <th>2</th>\n",
       "      <td>2006-04-01 02:00:00.000 +0200</td>\n",
       "      <td>Mostly Cloudy</td>\n",
       "      <td>rain</td>\n",
       "      <td>9.377778</td>\n",
       "      <td>9.377778</td>\n",
       "      <td>0.89</td>\n",
       "      <td>3.9284</td>\n",
       "      <td>204.0</td>\n",
       "      <td>14.9569</td>\n",
       "      <td>0.0</td>\n",
       "      <td>1015.94</td>\n",
       "      <td>Partly cloudy throughout the day.</td>\n",
       "    </tr>\n",
       "    <tr>\n",
       "      <th>3</th>\n",
       "      <td>2006-04-01 03:00:00.000 +0200</td>\n",
       "      <td>Partly Cloudy</td>\n",
       "      <td>rain</td>\n",
       "      <td>8.288889</td>\n",
       "      <td>5.944444</td>\n",
       "      <td>0.83</td>\n",
       "      <td>14.1036</td>\n",
       "      <td>269.0</td>\n",
       "      <td>15.8263</td>\n",
       "      <td>0.0</td>\n",
       "      <td>1016.41</td>\n",
       "      <td>Partly cloudy throughout the day.</td>\n",
       "    </tr>\n",
       "    <tr>\n",
       "      <th>4</th>\n",
       "      <td>2006-04-01 04:00:00.000 +0200</td>\n",
       "      <td>Mostly Cloudy</td>\n",
       "      <td>rain</td>\n",
       "      <td>8.755556</td>\n",
       "      <td>6.977778</td>\n",
       "      <td>0.83</td>\n",
       "      <td>11.0446</td>\n",
       "      <td>259.0</td>\n",
       "      <td>15.8263</td>\n",
       "      <td>0.0</td>\n",
       "      <td>1016.51</td>\n",
       "      <td>Partly cloudy throughout the day.</td>\n",
       "    </tr>\n",
       "  </tbody>\n",
       "</table>\n",
       "</div>"
      ],
      "text/plain": [
       "                  Formatted Date        Summary Precip Type  Temperature (C)  \\\n",
       "0  2006-04-01 00:00:00.000 +0200  Partly Cloudy        rain         9.472222   \n",
       "1  2006-04-01 01:00:00.000 +0200  Partly Cloudy        rain         9.355556   \n",
       "2  2006-04-01 02:00:00.000 +0200  Mostly Cloudy        rain         9.377778   \n",
       "3  2006-04-01 03:00:00.000 +0200  Partly Cloudy        rain         8.288889   \n",
       "4  2006-04-01 04:00:00.000 +0200  Mostly Cloudy        rain         8.755556   \n",
       "\n",
       "   Apparent Temperature (C)  Humidity  Wind Speed (km/h)  \\\n",
       "0                  7.388889      0.89            14.1197   \n",
       "1                  7.227778      0.86            14.2646   \n",
       "2                  9.377778      0.89             3.9284   \n",
       "3                  5.944444      0.83            14.1036   \n",
       "4                  6.977778      0.83            11.0446   \n",
       "\n",
       "   Wind Bearing (degrees)  Visibility (km)  Loud Cover  Pressure (millibars)  \\\n",
       "0                   251.0          15.8263         0.0               1015.13   \n",
       "1                   259.0          15.8263         0.0               1015.63   \n",
       "2                   204.0          14.9569         0.0               1015.94   \n",
       "3                   269.0          15.8263         0.0               1016.41   \n",
       "4                   259.0          15.8263         0.0               1016.51   \n",
       "\n",
       "                       Daily Summary  \n",
       "0  Partly cloudy throughout the day.  \n",
       "1  Partly cloudy throughout the day.  \n",
       "2  Partly cloudy throughout the day.  \n",
       "3  Partly cloudy throughout the day.  \n",
       "4  Partly cloudy throughout the day.  "
      ]
     },
     "execution_count": 2,
     "metadata": {},
     "output_type": "execute_result"
    }
   ],
   "source": [
    "df = pd.read_csv(\"weatherHistory1.csv\")\n",
    "df.head()"
   ]
  },
  {
   "cell_type": "code",
   "execution_count": 3,
   "id": "08e7064a",
   "metadata": {
    "scrolled": true
   },
   "outputs": [
    {
     "data": {
      "text/html": [
       "<div>\n",
       "<style scoped>\n",
       "    .dataframe tbody tr th:only-of-type {\n",
       "        vertical-align: middle;\n",
       "    }\n",
       "\n",
       "    .dataframe tbody tr th {\n",
       "        vertical-align: top;\n",
       "    }\n",
       "\n",
       "    .dataframe thead th {\n",
       "        text-align: right;\n",
       "    }\n",
       "</style>\n",
       "<table border=\"1\" class=\"dataframe\">\n",
       "  <thead>\n",
       "    <tr style=\"text-align: right;\">\n",
       "      <th></th>\n",
       "      <th>Temperature (C)</th>\n",
       "      <th>Apparent Temperature (C)</th>\n",
       "      <th>Humidity</th>\n",
       "      <th>Wind Speed (km/h)</th>\n",
       "      <th>Wind Bearing (degrees)</th>\n",
       "      <th>Visibility (km)</th>\n",
       "      <th>Loud Cover</th>\n",
       "      <th>Pressure (millibars)</th>\n",
       "    </tr>\n",
       "  </thead>\n",
       "  <tbody>\n",
       "    <tr>\n",
       "      <th>count</th>\n",
       "      <td>96453.000000</td>\n",
       "      <td>96453.000000</td>\n",
       "      <td>96453.000000</td>\n",
       "      <td>96453.000000</td>\n",
       "      <td>96453.000000</td>\n",
       "      <td>96453.000000</td>\n",
       "      <td>96453.0</td>\n",
       "      <td>96453.000000</td>\n",
       "    </tr>\n",
       "    <tr>\n",
       "      <th>mean</th>\n",
       "      <td>11.932678</td>\n",
       "      <td>10.855029</td>\n",
       "      <td>0.734899</td>\n",
       "      <td>10.810640</td>\n",
       "      <td>187.509232</td>\n",
       "      <td>10.347325</td>\n",
       "      <td>0.0</td>\n",
       "      <td>1003.235956</td>\n",
       "    </tr>\n",
       "    <tr>\n",
       "      <th>std</th>\n",
       "      <td>9.551546</td>\n",
       "      <td>10.696847</td>\n",
       "      <td>0.195473</td>\n",
       "      <td>6.913571</td>\n",
       "      <td>107.383428</td>\n",
       "      <td>4.192123</td>\n",
       "      <td>0.0</td>\n",
       "      <td>116.969906</td>\n",
       "    </tr>\n",
       "    <tr>\n",
       "      <th>min</th>\n",
       "      <td>-21.822222</td>\n",
       "      <td>-27.716667</td>\n",
       "      <td>0.000000</td>\n",
       "      <td>0.000000</td>\n",
       "      <td>0.000000</td>\n",
       "      <td>0.000000</td>\n",
       "      <td>0.0</td>\n",
       "      <td>0.000000</td>\n",
       "    </tr>\n",
       "    <tr>\n",
       "      <th>25%</th>\n",
       "      <td>4.688889</td>\n",
       "      <td>2.311111</td>\n",
       "      <td>0.600000</td>\n",
       "      <td>5.828200</td>\n",
       "      <td>116.000000</td>\n",
       "      <td>8.339800</td>\n",
       "      <td>0.0</td>\n",
       "      <td>1011.900000</td>\n",
       "    </tr>\n",
       "    <tr>\n",
       "      <th>50%</th>\n",
       "      <td>12.000000</td>\n",
       "      <td>12.000000</td>\n",
       "      <td>0.780000</td>\n",
       "      <td>9.965900</td>\n",
       "      <td>180.000000</td>\n",
       "      <td>10.046400</td>\n",
       "      <td>0.0</td>\n",
       "      <td>1016.450000</td>\n",
       "    </tr>\n",
       "    <tr>\n",
       "      <th>75%</th>\n",
       "      <td>18.838889</td>\n",
       "      <td>18.838889</td>\n",
       "      <td>0.890000</td>\n",
       "      <td>14.135800</td>\n",
       "      <td>290.000000</td>\n",
       "      <td>14.812000</td>\n",
       "      <td>0.0</td>\n",
       "      <td>1021.090000</td>\n",
       "    </tr>\n",
       "    <tr>\n",
       "      <th>max</th>\n",
       "      <td>39.905556</td>\n",
       "      <td>39.344444</td>\n",
       "      <td>1.000000</td>\n",
       "      <td>63.852600</td>\n",
       "      <td>359.000000</td>\n",
       "      <td>16.100000</td>\n",
       "      <td>0.0</td>\n",
       "      <td>1046.380000</td>\n",
       "    </tr>\n",
       "  </tbody>\n",
       "</table>\n",
       "</div>"
      ],
      "text/plain": [
       "       Temperature (C)  Apparent Temperature (C)      Humidity  \\\n",
       "count     96453.000000              96453.000000  96453.000000   \n",
       "mean         11.932678                 10.855029      0.734899   \n",
       "std           9.551546                 10.696847      0.195473   \n",
       "min         -21.822222                -27.716667      0.000000   \n",
       "25%           4.688889                  2.311111      0.600000   \n",
       "50%          12.000000                 12.000000      0.780000   \n",
       "75%          18.838889                 18.838889      0.890000   \n",
       "max          39.905556                 39.344444      1.000000   \n",
       "\n",
       "       Wind Speed (km/h)  Wind Bearing (degrees)  Visibility (km)  Loud Cover  \\\n",
       "count       96453.000000            96453.000000     96453.000000     96453.0   \n",
       "mean           10.810640              187.509232        10.347325         0.0   \n",
       "std             6.913571              107.383428         4.192123         0.0   \n",
       "min             0.000000                0.000000         0.000000         0.0   \n",
       "25%             5.828200              116.000000         8.339800         0.0   \n",
       "50%             9.965900              180.000000        10.046400         0.0   \n",
       "75%            14.135800              290.000000        14.812000         0.0   \n",
       "max            63.852600              359.000000        16.100000         0.0   \n",
       "\n",
       "       Pressure (millibars)  \n",
       "count          96453.000000  \n",
       "mean            1003.235956  \n",
       "std              116.969906  \n",
       "min                0.000000  \n",
       "25%             1011.900000  \n",
       "50%             1016.450000  \n",
       "75%             1021.090000  \n",
       "max             1046.380000  "
      ]
     },
     "execution_count": 3,
     "metadata": {},
     "output_type": "execute_result"
    }
   ],
   "source": [
    "df.describe()"
   ]
  },
  {
   "cell_type": "code",
   "execution_count": 4,
   "id": "dcd81f41",
   "metadata": {},
   "outputs": [
    {
     "name": "stdout",
     "output_type": "stream",
     "text": [
      "Index(['Formatted Date', 'Summary', 'Precip Type', 'Daily Summary'], dtype='object')\n"
     ]
    }
   ],
   "source": [
    "categorical = df.select_dtypes(include = [\"object\"]).keys()\n",
    "print(categorical)"
   ]
  },
  {
   "cell_type": "code",
   "execution_count": 5,
   "id": "f582e0f9",
   "metadata": {},
   "outputs": [
    {
     "name": "stdout",
     "output_type": "stream",
     "text": [
      "Index(['Temperature (C)', 'Apparent Temperature (C)', 'Humidity',\n",
      "       'Wind Speed (km/h)', 'Wind Bearing (degrees)', 'Visibility (km)',\n",
      "       'Loud Cover', 'Pressure (millibars)'],\n",
      "      dtype='object')\n"
     ]
    }
   ],
   "source": [
    "quantitative = df.select_dtypes(include = [\"int64\",\"float64\"]).keys()\n",
    "print(quantitative)"
   ]
  },
  {
   "cell_type": "code",
   "execution_count": 6,
   "id": "757065cb",
   "metadata": {
    "scrolled": true
   },
   "outputs": [
    {
     "name": "stdout",
     "output_type": "stream",
     "text": [
      "<class 'pandas.core.frame.DataFrame'>\n",
      "RangeIndex: 96453 entries, 0 to 96452\n",
      "Data columns (total 12 columns):\n",
      " #   Column                    Non-Null Count  Dtype  \n",
      "---  ------                    --------------  -----  \n",
      " 0   Formatted Date            96453 non-null  object \n",
      " 1   Summary                   96453 non-null  object \n",
      " 2   Precip Type               95936 non-null  object \n",
      " 3   Temperature (C)           96453 non-null  float64\n",
      " 4   Apparent Temperature (C)  96453 non-null  float64\n",
      " 5   Humidity                  96453 non-null  float64\n",
      " 6   Wind Speed (km/h)         96453 non-null  float64\n",
      " 7   Wind Bearing (degrees)    96453 non-null  float64\n",
      " 8   Visibility (km)           96453 non-null  float64\n",
      " 9   Loud Cover                96453 non-null  float64\n",
      " 10  Pressure (millibars)      96453 non-null  float64\n",
      " 11  Daily Summary             96453 non-null  object \n",
      "dtypes: float64(8), object(4)\n",
      "memory usage: 8.8+ MB\n"
     ]
    }
   ],
   "source": [
    "df.info()"
   ]
  },
  {
   "cell_type": "code",
   "execution_count": 7,
   "id": "733fcbd7",
   "metadata": {},
   "outputs": [
    {
     "data": {
      "text/plain": [
       "(96453, 12)"
      ]
     },
     "execution_count": 7,
     "metadata": {},
     "output_type": "execute_result"
    }
   ],
   "source": [
    "df.shape"
   ]
  },
  {
   "cell_type": "code",
   "execution_count": 8,
   "id": "4f022aad",
   "metadata": {},
   "outputs": [],
   "source": [
    "pd_series = pd.Series(data = [pd.to_datetime(i) for i in df['Formatted Date']],index = df.index)"
   ]
  },
  {
   "cell_type": "code",
   "execution_count": 9,
   "id": "14798d64",
   "metadata": {},
   "outputs": [],
   "source": [
    "pd_year = pd.Series(data = [i.year for i in pd_series],index = df.index)\n",
    "pd_date = pd.Series(data = [i.date() for i in pd_series],index = df.index)\n",
    "pd_month = pd.Series(data = [i.month for i in pd_series],index = df.index)\n",
    "pd_day = pd.Series(data = [i.day for i in pd_series],index = df.index)\n",
    "pd_hour = pd.Series(data = [i.hour for i in pd_series],index = df.index)\n",
    "df['date'] = pd_date\n",
    "df['year'] = pd_year\n",
    "df['month'] = pd_month\n",
    "df['day'] = pd_day\n",
    "df['hour'] = pd_hour"
   ]
  },
  {
   "cell_type": "code",
   "execution_count": 10,
   "id": "3065f309",
   "metadata": {},
   "outputs": [],
   "source": [
    "df = df.drop(columns = ['Formatted Date'])\n",
    "# df.info()\n",
    "# print(pd_series[0].time())"
   ]
  },
  {
   "cell_type": "code",
   "execution_count": 11,
   "id": "44cb9e28",
   "metadata": {
    "scrolled": true
   },
   "outputs": [
    {
     "data": {
      "text/html": [
       "<div>\n",
       "<style scoped>\n",
       "    .dataframe tbody tr th:only-of-type {\n",
       "        vertical-align: middle;\n",
       "    }\n",
       "\n",
       "    .dataframe tbody tr th {\n",
       "        vertical-align: top;\n",
       "    }\n",
       "\n",
       "    .dataframe thead th {\n",
       "        text-align: right;\n",
       "    }\n",
       "</style>\n",
       "<table border=\"1\" class=\"dataframe\">\n",
       "  <thead>\n",
       "    <tr style=\"text-align: right;\">\n",
       "      <th></th>\n",
       "      <th>Summary</th>\n",
       "      <th>Precip Type</th>\n",
       "      <th>Temperature (C)</th>\n",
       "      <th>Apparent Temperature (C)</th>\n",
       "      <th>Humidity</th>\n",
       "      <th>Wind Speed (km/h)</th>\n",
       "      <th>Wind Bearing (degrees)</th>\n",
       "      <th>Visibility (km)</th>\n",
       "      <th>Loud Cover</th>\n",
       "      <th>Pressure (millibars)</th>\n",
       "      <th>Daily Summary</th>\n",
       "      <th>date</th>\n",
       "      <th>year</th>\n",
       "      <th>month</th>\n",
       "      <th>day</th>\n",
       "      <th>hour</th>\n",
       "    </tr>\n",
       "  </thead>\n",
       "  <tbody>\n",
       "    <tr>\n",
       "      <th>0</th>\n",
       "      <td>Partly Cloudy</td>\n",
       "      <td>rain</td>\n",
       "      <td>9.472222</td>\n",
       "      <td>7.388889</td>\n",
       "      <td>0.89</td>\n",
       "      <td>14.1197</td>\n",
       "      <td>251.0</td>\n",
       "      <td>15.8263</td>\n",
       "      <td>0.0</td>\n",
       "      <td>1015.13</td>\n",
       "      <td>Partly cloudy throughout the day.</td>\n",
       "      <td>2006-04-01</td>\n",
       "      <td>2006</td>\n",
       "      <td>4</td>\n",
       "      <td>1</td>\n",
       "      <td>0</td>\n",
       "    </tr>\n",
       "    <tr>\n",
       "      <th>1</th>\n",
       "      <td>Partly Cloudy</td>\n",
       "      <td>rain</td>\n",
       "      <td>9.355556</td>\n",
       "      <td>7.227778</td>\n",
       "      <td>0.86</td>\n",
       "      <td>14.2646</td>\n",
       "      <td>259.0</td>\n",
       "      <td>15.8263</td>\n",
       "      <td>0.0</td>\n",
       "      <td>1015.63</td>\n",
       "      <td>Partly cloudy throughout the day.</td>\n",
       "      <td>2006-04-01</td>\n",
       "      <td>2006</td>\n",
       "      <td>4</td>\n",
       "      <td>1</td>\n",
       "      <td>1</td>\n",
       "    </tr>\n",
       "    <tr>\n",
       "      <th>2</th>\n",
       "      <td>Mostly Cloudy</td>\n",
       "      <td>rain</td>\n",
       "      <td>9.377778</td>\n",
       "      <td>9.377778</td>\n",
       "      <td>0.89</td>\n",
       "      <td>3.9284</td>\n",
       "      <td>204.0</td>\n",
       "      <td>14.9569</td>\n",
       "      <td>0.0</td>\n",
       "      <td>1015.94</td>\n",
       "      <td>Partly cloudy throughout the day.</td>\n",
       "      <td>2006-04-01</td>\n",
       "      <td>2006</td>\n",
       "      <td>4</td>\n",
       "      <td>1</td>\n",
       "      <td>2</td>\n",
       "    </tr>\n",
       "    <tr>\n",
       "      <th>3</th>\n",
       "      <td>Partly Cloudy</td>\n",
       "      <td>rain</td>\n",
       "      <td>8.288889</td>\n",
       "      <td>5.944444</td>\n",
       "      <td>0.83</td>\n",
       "      <td>14.1036</td>\n",
       "      <td>269.0</td>\n",
       "      <td>15.8263</td>\n",
       "      <td>0.0</td>\n",
       "      <td>1016.41</td>\n",
       "      <td>Partly cloudy throughout the day.</td>\n",
       "      <td>2006-04-01</td>\n",
       "      <td>2006</td>\n",
       "      <td>4</td>\n",
       "      <td>1</td>\n",
       "      <td>3</td>\n",
       "    </tr>\n",
       "    <tr>\n",
       "      <th>4</th>\n",
       "      <td>Mostly Cloudy</td>\n",
       "      <td>rain</td>\n",
       "      <td>8.755556</td>\n",
       "      <td>6.977778</td>\n",
       "      <td>0.83</td>\n",
       "      <td>11.0446</td>\n",
       "      <td>259.0</td>\n",
       "      <td>15.8263</td>\n",
       "      <td>0.0</td>\n",
       "      <td>1016.51</td>\n",
       "      <td>Partly cloudy throughout the day.</td>\n",
       "      <td>2006-04-01</td>\n",
       "      <td>2006</td>\n",
       "      <td>4</td>\n",
       "      <td>1</td>\n",
       "      <td>4</td>\n",
       "    </tr>\n",
       "  </tbody>\n",
       "</table>\n",
       "</div>"
      ],
      "text/plain": [
       "         Summary Precip Type  Temperature (C)  Apparent Temperature (C)  \\\n",
       "0  Partly Cloudy        rain         9.472222                  7.388889   \n",
       "1  Partly Cloudy        rain         9.355556                  7.227778   \n",
       "2  Mostly Cloudy        rain         9.377778                  9.377778   \n",
       "3  Partly Cloudy        rain         8.288889                  5.944444   \n",
       "4  Mostly Cloudy        rain         8.755556                  6.977778   \n",
       "\n",
       "   Humidity  Wind Speed (km/h)  Wind Bearing (degrees)  Visibility (km)  \\\n",
       "0      0.89            14.1197                   251.0          15.8263   \n",
       "1      0.86            14.2646                   259.0          15.8263   \n",
       "2      0.89             3.9284                   204.0          14.9569   \n",
       "3      0.83            14.1036                   269.0          15.8263   \n",
       "4      0.83            11.0446                   259.0          15.8263   \n",
       "\n",
       "   Loud Cover  Pressure (millibars)                      Daily Summary  \\\n",
       "0         0.0               1015.13  Partly cloudy throughout the day.   \n",
       "1         0.0               1015.63  Partly cloudy throughout the day.   \n",
       "2         0.0               1015.94  Partly cloudy throughout the day.   \n",
       "3         0.0               1016.41  Partly cloudy throughout the day.   \n",
       "4         0.0               1016.51  Partly cloudy throughout the day.   \n",
       "\n",
       "         date  year  month  day  hour  \n",
       "0  2006-04-01  2006      4    1     0  \n",
       "1  2006-04-01  2006      4    1     1  \n",
       "2  2006-04-01  2006      4    1     2  \n",
       "3  2006-04-01  2006      4    1     3  \n",
       "4  2006-04-01  2006      4    1     4  "
      ]
     },
     "execution_count": 11,
     "metadata": {},
     "output_type": "execute_result"
    }
   ],
   "source": [
    "df.head()\n",
    "# len(df[\"Summary\"].unique())"
   ]
  },
  {
   "cell_type": "code",
   "execution_count": 12,
   "id": "f4459499",
   "metadata": {
    "scrolled": true
   },
   "outputs": [
    {
     "data": {
      "text/plain": [
       "Mostly cloudy throughout the day.                                                                       20085\n",
       "Partly cloudy throughout the day.                                                                        9981\n",
       "Partly cloudy until night.                                                                               6169\n",
       "Partly cloudy starting in the morning.                                                                   5184\n",
       "Foggy in the morning.                                                                                    4201\n",
       "                                                                                                        ...  \n",
       "Breezy starting overnight continuing until morning and foggy overnight.                                    24\n",
       "Mostly cloudy throughout the day and breezy starting overnight continuing until afternoon.                 24\n",
       "Partly cloudy starting in the morning and breezy starting in the afternoon continuing until evening.       24\n",
       "Rain until afternoon.                                                                                      24\n",
       "Foggy starting overnight continuing until morning and breezy in the afternoon.                             23\n",
       "Name: Daily Summary, Length: 214, dtype: int64"
      ]
     },
     "execution_count": 12,
     "metadata": {},
     "output_type": "execute_result"
    }
   ],
   "source": [
    "df[\"Daily Summary\"].value_counts()"
   ]
  },
  {
   "cell_type": "code",
   "execution_count": 13,
   "id": "802ee365",
   "metadata": {},
   "outputs": [],
   "source": [
    "def change_category(Summary):\n",
    "    if Summary=='Partly Cloudy':\n",
    "        return 1\n",
    "    elif Summary=='Mostly Cloudy':\n",
    "        return 2\n",
    "    elif Summary=='Foggy':\n",
    "        return 3\n",
    "    elif Summary=='Clear':\n",
    "        return 4\n",
    "    elif Summary=='Overcast':\n",
    "        return 5\n",
    "    elif Summary=='Breezy and Overcast':\n",
    "        return 6\n",
    "    elif Summary=='Breezy and Partly Cloudy':\n",
    "        return 7\n",
    "    elif Summary=='Breezy and Mostly Cloudy':\n",
    "        return 8\n",
    "    elif Summary=='Dry and Partly Cloudy':\n",
    "        return 9\n",
    "    elif Summary=='Windy and Partly Cloudy':\n",
    "        return 10\n",
    "    elif Summary=='Light Rain':\n",
    "        return 11\n",
    "    elif Summary=='Breezy':\n",
    "        return 12\n",
    "    elif Summary=='Windy and Overcast':\n",
    "        return 13\n",
    "    elif Summary=='Humid and Mostly Cloudy':\n",
    "        return 14\n",
    "    elif Summary=='Drizzle':\n",
    "        return 15\n",
    "    elif Summary=='Windy and Mostly Cloudy':\n",
    "        return 16\n",
    "    elif Summary=='Breezy and Foggy':\n",
    "        return 17\n",
    "    elif Summary=='Dry':\n",
    "        return 18\n",
    "    elif Summary=='Humid and Partly Cloudy':\n",
    "        return 19\n",
    "    elif Summary=='Dry and Mostly Cloudy':\n",
    "        return 20\n",
    "    elif Summary=='Rain':\n",
    "        return 21\n",
    "    elif Summary=='Windy':\n",
    "        return 22\n",
    "    elif Summary=='Humid and Overcast':\n",
    "        return 23\n",
    "    elif Summary=='Windy and Foggy':\n",
    "        return 24\n",
    "    elif Summary=='Dangerously Windy and Partly Cloudy':\n",
    "        return 25\n",
    "    elif Summary=='Windy and Dry':\n",
    "        return 26\n",
    "    elif Summary=='Breezy and Dry':\n",
    "        return 27"
   ]
  },
  {
   "cell_type": "code",
   "execution_count": 14,
   "id": "a2644228",
   "metadata": {},
   "outputs": [],
   "source": [
    "df['SummaryCat'] = df['Summary'].apply(change_category)"
   ]
  },
  {
   "cell_type": "code",
   "execution_count": 15,
   "id": "c9ee28a9",
   "metadata": {},
   "outputs": [
    {
     "data": {
      "text/html": [
       "<div>\n",
       "<style scoped>\n",
       "    .dataframe tbody tr th:only-of-type {\n",
       "        vertical-align: middle;\n",
       "    }\n",
       "\n",
       "    .dataframe tbody tr th {\n",
       "        vertical-align: top;\n",
       "    }\n",
       "\n",
       "    .dataframe thead th {\n",
       "        text-align: right;\n",
       "    }\n",
       "</style>\n",
       "<table border=\"1\" class=\"dataframe\">\n",
       "  <thead>\n",
       "    <tr style=\"text-align: right;\">\n",
       "      <th></th>\n",
       "      <th>Summary</th>\n",
       "      <th>Precip Type</th>\n",
       "      <th>Temperature (C)</th>\n",
       "      <th>Apparent Temperature (C)</th>\n",
       "      <th>Humidity</th>\n",
       "      <th>Wind Speed (km/h)</th>\n",
       "      <th>Wind Bearing (degrees)</th>\n",
       "      <th>Visibility (km)</th>\n",
       "      <th>Loud Cover</th>\n",
       "      <th>Pressure (millibars)</th>\n",
       "      <th>Daily Summary</th>\n",
       "      <th>date</th>\n",
       "      <th>year</th>\n",
       "      <th>month</th>\n",
       "      <th>day</th>\n",
       "      <th>hour</th>\n",
       "      <th>SummaryCat</th>\n",
       "    </tr>\n",
       "  </thead>\n",
       "  <tbody>\n",
       "    <tr>\n",
       "      <th>0</th>\n",
       "      <td>Partly Cloudy</td>\n",
       "      <td>rain</td>\n",
       "      <td>9.472222</td>\n",
       "      <td>7.388889</td>\n",
       "      <td>0.89</td>\n",
       "      <td>14.1197</td>\n",
       "      <td>251.0</td>\n",
       "      <td>15.8263</td>\n",
       "      <td>0.0</td>\n",
       "      <td>1015.13</td>\n",
       "      <td>Partly cloudy throughout the day.</td>\n",
       "      <td>2006-04-01</td>\n",
       "      <td>2006</td>\n",
       "      <td>4</td>\n",
       "      <td>1</td>\n",
       "      <td>0</td>\n",
       "      <td>1</td>\n",
       "    </tr>\n",
       "    <tr>\n",
       "      <th>1</th>\n",
       "      <td>Partly Cloudy</td>\n",
       "      <td>rain</td>\n",
       "      <td>9.355556</td>\n",
       "      <td>7.227778</td>\n",
       "      <td>0.86</td>\n",
       "      <td>14.2646</td>\n",
       "      <td>259.0</td>\n",
       "      <td>15.8263</td>\n",
       "      <td>0.0</td>\n",
       "      <td>1015.63</td>\n",
       "      <td>Partly cloudy throughout the day.</td>\n",
       "      <td>2006-04-01</td>\n",
       "      <td>2006</td>\n",
       "      <td>4</td>\n",
       "      <td>1</td>\n",
       "      <td>1</td>\n",
       "      <td>1</td>\n",
       "    </tr>\n",
       "    <tr>\n",
       "      <th>2</th>\n",
       "      <td>Mostly Cloudy</td>\n",
       "      <td>rain</td>\n",
       "      <td>9.377778</td>\n",
       "      <td>9.377778</td>\n",
       "      <td>0.89</td>\n",
       "      <td>3.9284</td>\n",
       "      <td>204.0</td>\n",
       "      <td>14.9569</td>\n",
       "      <td>0.0</td>\n",
       "      <td>1015.94</td>\n",
       "      <td>Partly cloudy throughout the day.</td>\n",
       "      <td>2006-04-01</td>\n",
       "      <td>2006</td>\n",
       "      <td>4</td>\n",
       "      <td>1</td>\n",
       "      <td>2</td>\n",
       "      <td>2</td>\n",
       "    </tr>\n",
       "    <tr>\n",
       "      <th>3</th>\n",
       "      <td>Partly Cloudy</td>\n",
       "      <td>rain</td>\n",
       "      <td>8.288889</td>\n",
       "      <td>5.944444</td>\n",
       "      <td>0.83</td>\n",
       "      <td>14.1036</td>\n",
       "      <td>269.0</td>\n",
       "      <td>15.8263</td>\n",
       "      <td>0.0</td>\n",
       "      <td>1016.41</td>\n",
       "      <td>Partly cloudy throughout the day.</td>\n",
       "      <td>2006-04-01</td>\n",
       "      <td>2006</td>\n",
       "      <td>4</td>\n",
       "      <td>1</td>\n",
       "      <td>3</td>\n",
       "      <td>1</td>\n",
       "    </tr>\n",
       "    <tr>\n",
       "      <th>4</th>\n",
       "      <td>Mostly Cloudy</td>\n",
       "      <td>rain</td>\n",
       "      <td>8.755556</td>\n",
       "      <td>6.977778</td>\n",
       "      <td>0.83</td>\n",
       "      <td>11.0446</td>\n",
       "      <td>259.0</td>\n",
       "      <td>15.8263</td>\n",
       "      <td>0.0</td>\n",
       "      <td>1016.51</td>\n",
       "      <td>Partly cloudy throughout the day.</td>\n",
       "      <td>2006-04-01</td>\n",
       "      <td>2006</td>\n",
       "      <td>4</td>\n",
       "      <td>1</td>\n",
       "      <td>4</td>\n",
       "      <td>2</td>\n",
       "    </tr>\n",
       "  </tbody>\n",
       "</table>\n",
       "</div>"
      ],
      "text/plain": [
       "         Summary Precip Type  Temperature (C)  Apparent Temperature (C)  \\\n",
       "0  Partly Cloudy        rain         9.472222                  7.388889   \n",
       "1  Partly Cloudy        rain         9.355556                  7.227778   \n",
       "2  Mostly Cloudy        rain         9.377778                  9.377778   \n",
       "3  Partly Cloudy        rain         8.288889                  5.944444   \n",
       "4  Mostly Cloudy        rain         8.755556                  6.977778   \n",
       "\n",
       "   Humidity  Wind Speed (km/h)  Wind Bearing (degrees)  Visibility (km)  \\\n",
       "0      0.89            14.1197                   251.0          15.8263   \n",
       "1      0.86            14.2646                   259.0          15.8263   \n",
       "2      0.89             3.9284                   204.0          14.9569   \n",
       "3      0.83            14.1036                   269.0          15.8263   \n",
       "4      0.83            11.0446                   259.0          15.8263   \n",
       "\n",
       "   Loud Cover  Pressure (millibars)                      Daily Summary  \\\n",
       "0         0.0               1015.13  Partly cloudy throughout the day.   \n",
       "1         0.0               1015.63  Partly cloudy throughout the day.   \n",
       "2         0.0               1015.94  Partly cloudy throughout the day.   \n",
       "3         0.0               1016.41  Partly cloudy throughout the day.   \n",
       "4         0.0               1016.51  Partly cloudy throughout the day.   \n",
       "\n",
       "         date  year  month  day  hour  SummaryCat  \n",
       "0  2006-04-01  2006      4    1     0           1  \n",
       "1  2006-04-01  2006      4    1     1           1  \n",
       "2  2006-04-01  2006      4    1     2           2  \n",
       "3  2006-04-01  2006      4    1     3           1  \n",
       "4  2006-04-01  2006      4    1     4           2  "
      ]
     },
     "execution_count": 15,
     "metadata": {},
     "output_type": "execute_result"
    }
   ],
   "source": [
    "df.head()"
   ]
  },
  {
   "cell_type": "code",
   "execution_count": 16,
   "id": "cedc8881",
   "metadata": {},
   "outputs": [
    {
     "data": {
      "image/png": "[encoded data removed]",
      "text/plain": [
       "<Figure size 720x432 with 2 Axes>"
      ]
     },
     "metadata": {
      "needs_background": "light"
     },
     "output_type": "display_data"
    }
   ],
   "source": [
    "# corr_df = df.iloc[:, 1:].corr()\n",
    "# plt.figure(figsize = (10, 6), dpi = 96)\n",
    "# sns.heatmap(data = corr_df, annot = True) # 'annot=True' fills the R values in the heatmap cells.\n",
    "# plt.show()\n",
    "f,ax = plt.subplots(figsize=(10 ,6))\n",
    "sns.heatmap(df.corr(), annot=True, linewidths=.5, fmt= '.1f',ax=ax)\n",
    "plt.show()"
   ]
  },
  {
   "cell_type": "code",
   "execution_count": 17,
   "id": "bc4b9d2d",
   "metadata": {},
   "outputs": [
    {
     "data": {
      "text/html": [
       "<div>\n",
       "<style scoped>\n",
       "    .dataframe tbody tr th:only-of-type {\n",
       "        vertical-align: middle;\n",
       "    }\n",
       "\n",
       "    .dataframe tbody tr th {\n",
       "        vertical-align: top;\n",
       "    }\n",
       "\n",
       "    .dataframe thead th {\n",
       "        text-align: right;\n",
       "    }\n",
       "</style>\n",
       "<table border=\"1\" class=\"dataframe\">\n",
       "  <thead>\n",
       "    <tr style=\"text-align: right;\">\n",
       "      <th></th>\n",
       "      <th>Temperature (C)</th>\n",
       "      <th>Apparent Temperature (C)</th>\n",
       "      <th>Humidity</th>\n",
       "      <th>Wind Speed (km/h)</th>\n",
       "      <th>Wind Bearing (degrees)</th>\n",
       "      <th>Visibility (km)</th>\n",
       "      <th>Loud Cover</th>\n",
       "      <th>Pressure (millibars)</th>\n",
       "    </tr>\n",
       "  </thead>\n",
       "  <tbody>\n",
       "    <tr>\n",
       "      <th>count</th>\n",
       "      <td>96453.000000</td>\n",
       "      <td>96453.000000</td>\n",
       "      <td>96453.000000</td>\n",
       "      <td>96453.000000</td>\n",
       "      <td>96453.000000</td>\n",
       "      <td>96453.000000</td>\n",
       "      <td>96453.0</td>\n",
       "      <td>96453.000000</td>\n",
       "    </tr>\n",
       "    <tr>\n",
       "      <th>mean</th>\n",
       "      <td>11.932678</td>\n",
       "      <td>10.855029</td>\n",
       "      <td>0.734899</td>\n",
       "      <td>10.810640</td>\n",
       "      <td>187.509232</td>\n",
       "      <td>10.347325</td>\n",
       "      <td>0.0</td>\n",
       "      <td>1003.235956</td>\n",
       "    </tr>\n",
       "    <tr>\n",
       "      <th>std</th>\n",
       "      <td>9.551546</td>\n",
       "      <td>10.696847</td>\n",
       "      <td>0.195473</td>\n",
       "      <td>6.913571</td>\n",
       "      <td>107.383428</td>\n",
       "      <td>4.192123</td>\n",
       "      <td>0.0</td>\n",
       "      <td>116.969906</td>\n",
       "    </tr>\n",
       "    <tr>\n",
       "      <th>min</th>\n",
       "      <td>-21.822222</td>\n",
       "      <td>-27.716667</td>\n",
       "      <td>0.000000</td>\n",
       "      <td>0.000000</td>\n",
       "      <td>0.000000</td>\n",
       "      <td>0.000000</td>\n",
       "      <td>0.0</td>\n",
       "      <td>0.000000</td>\n",
       "    </tr>\n",
       "    <tr>\n",
       "      <th>25%</th>\n",
       "      <td>4.688889</td>\n",
       "      <td>2.311111</td>\n",
       "      <td>0.600000</td>\n",
       "      <td>5.828200</td>\n",
       "      <td>116.000000</td>\n",
       "      <td>8.339800</td>\n",
       "      <td>0.0</td>\n",
       "      <td>1011.900000</td>\n",
       "    </tr>\n",
       "    <tr>\n",
       "      <th>50%</th>\n",
       "      <td>12.000000</td>\n",
       "      <td>12.000000</td>\n",
       "      <td>0.780000</td>\n",
       "      <td>9.965900</td>\n",
       "      <td>180.000000</td>\n",
       "      <td>10.046400</td>\n",
       "      <td>0.0</td>\n",
       "      <td>1016.450000</td>\n",
       "    </tr>\n",
       "    <tr>\n",
       "      <th>75%</th>\n",
       "      <td>18.838889</td>\n",
       "      <td>18.838889</td>\n",
       "      <td>0.890000</td>\n",
       "      <td>14.135800</td>\n",
       "      <td>290.000000</td>\n",
       "      <td>14.812000</td>\n",
       "      <td>0.0</td>\n",
       "      <td>1021.090000</td>\n",
       "    </tr>\n",
       "    <tr>\n",
       "      <th>max</th>\n",
       "      <td>39.905556</td>\n",
       "      <td>39.344444</td>\n",
       "      <td>1.000000</td>\n",
       "      <td>63.852600</td>\n",
       "      <td>359.000000</td>\n",
       "      <td>16.100000</td>\n",
       "      <td>0.0</td>\n",
       "      <td>1046.380000</td>\n",
       "    </tr>\n",
       "  </tbody>\n",
       "</table>\n",
       "</div>"
      ],
      "text/plain": [
       "       Temperature (C)  Apparent Temperature (C)      Humidity  \\\n",
       "count     96453.000000              96453.000000  96453.000000   \n",
       "mean         11.932678                 10.855029      0.734899   \n",
       "std           9.551546                 10.696847      0.195473   \n",
       "min         -21.822222                -27.716667      0.000000   \n",
       "25%           4.688889                  2.311111      0.600000   \n",
       "50%          12.000000                 12.000000      0.780000   \n",
       "75%          18.838889                 18.838889      0.890000   \n",
       "max          39.905556                 39.344444      1.000000   \n",
       "\n",
       "       Wind Speed (km/h)  Wind Bearing (degrees)  Visibility (km)  Loud Cover  \\\n",
       "count       96453.000000            96453.000000     96453.000000     96453.0   \n",
       "mean           10.810640              187.509232        10.347325         0.0   \n",
       "std             6.913571              107.383428         4.192123         0.0   \n",
       "min             0.000000                0.000000         0.000000         0.0   \n",
       "25%             5.828200              116.000000         8.339800         0.0   \n",
       "50%             9.965900              180.000000        10.046400         0.0   \n",
       "75%            14.135800              290.000000        14.812000         0.0   \n",
       "max            63.852600              359.000000        16.100000         0.0   \n",
       "\n",
       "       Pressure (millibars)  \n",
       "count          96453.000000  \n",
       "mean            1003.235956  \n",
       "std              116.969906  \n",
       "min                0.000000  \n",
       "25%             1011.900000  \n",
       "50%             1016.450000  \n",
       "75%             1021.090000  \n",
       "max             1046.380000  "
      ]
     },
     "execution_count": 17,
     "metadata": {},
     "output_type": "execute_result"
    }
   ],
   "source": [
    "df[quantitative].describe()"
   ]
  },
  {
   "cell_type": "code",
   "execution_count": 18,
   "id": "26fab75a",
   "metadata": {},
   "outputs": [
    {
     "data": {
      "text/plain": [
       "array([[<AxesSubplot:title={'center':'Temperature (C)'}>,\n",
       "        <AxesSubplot:title={'center':'Apparent Temperature (C)'}>,\n",
       "        <AxesSubplot:title={'center':'Humidity'}>],\n",
       "       [<AxesSubplot:title={'center':'Wind Speed (km/h)'}>,\n",
       "        <AxesSubplot:title={'center':'Wind Bearing (degrees)'}>,\n",
       "        <AxesSubplot:title={'center':'Visibility (km)'}>],\n",
       "       [<AxesSubplot:title={'center':'Loud Cover'}>,\n",
       "        <AxesSubplot:title={'center':'Pressure (millibars)'}>,\n",
       "        <AxesSubplot:>]], dtype=object)"
      ]
     },
     "execution_count": 18,
     "metadata": {},
     "output_type": "execute_result"
    },
    {
     "data": {
      "image/png": "[encoded data removed]",
      "text/plain": [
       "<Figure size 648x648 with 9 Axes>"
      ]
     },
     "metadata": {
      "needs_background": "light"
     },
     "output_type": "display_data"
    }
   ],
   "source": [
    "rcParams['figure.figsize'] = 9, 9\n",
    "df[quantitative].hist()"
   ]
  },
  {
   "cell_type": "code",
   "execution_count": 19,
   "id": "da5e33bf",
   "metadata": {},
   "outputs": [],
   "source": [
    "df = df.drop('Loud Cover',axis=1)"
   ]
  },
  {
   "cell_type": "code",
   "execution_count": 20,
   "id": "af3b4445",
   "metadata": {},
   "outputs": [
    {
     "data": {
      "text/plain": [
       "<AxesSubplot:>"
      ]
     },
     "execution_count": 20,
     "metadata": {},
     "output_type": "execute_result"
    },
    {
     "data": {
      "image/png": "[encoded data removed]",
      "text/plain": [
       "<Figure size 360x216 with 1 Axes>"
      ]
     },
     "metadata": {
      "needs_background": "light"
     },
     "output_type": "display_data"
    }
   ],
   "source": [
    "pressure_median = df['Pressure (millibars)'].median()\n",
    "      \n",
    "def pressure(x):\n",
    "    if x==0:\n",
    "        return x + pressure_median\n",
    "    else:\n",
    "        return x\n",
    "        \n",
    "df[\"Pressure (millibars)\"] = df.apply(lambda row:pressure(row[\"Pressure (millibars)\"]) , axis = 1)\n",
    "\n",
    "rcParams['figure.figsize'] = 5, 3\n",
    "df['Pressure (millibars)'].hist()"
   ]
  },
  {
   "cell_type": "code",
   "execution_count": 21,
   "id": "d0bb5ab6",
   "metadata": {},
   "outputs": [
    {
     "data": {
      "text/plain": [
       "<AxesSubplot:xlabel='count', ylabel='SummaryCat'>"
      ]
     },
     "execution_count": 21,
     "metadata": {},
     "output_type": "execute_result"
    },
    {
     "data": {
      "image/png": "[encoded data removed]",
      "text/plain": [
       "<Figure size 576x360 with 1 Axes>"
      ]
     },
     "metadata": {
      "needs_background": "light"
     },
     "output_type": "display_data"
    }
   ],
   "source": [
    "rcParams['figure.figsize'] = 8, 5\n",
    "sns.countplot(y=df['SummaryCat'])"
   ]
  },
  {
   "cell_type": "code",
   "execution_count": 22,
   "id": "4439c200",
   "metadata": {},
   "outputs": [
    {
     "name": "stdout",
     "output_type": "stream",
     "text": [
      "0 2\n"
     ]
    }
   ],
   "source": [
    "total_cell = np.product(df.shape)\n",
    "missing_count = df.isnull().sum()\n",
    "total_missing = missing_count.sum()\n",
    "print(round((total_missing / total_cell) * 100),2)"
   ]
  },
  {
   "cell_type": "code",
   "execution_count": 23,
   "id": "7a08d324",
   "metadata": {},
   "outputs": [
    {
     "data": {
      "text/plain": [
       "1     31733\n",
       "2     28094\n",
       "5     16597\n",
       "4     10890\n",
       "3      7148\n",
       "6       528\n",
       "8       516\n",
       "7       386\n",
       "9        86\n",
       "10       67\n",
       "11       63\n",
       "12       54\n",
       "13       45\n",
       "14       40\n",
       "15       39\n",
       "17       35\n",
       "16       35\n",
       "18       34\n",
       "19       17\n",
       "20       14\n",
       "21       10\n",
       "22        8\n",
       "23        7\n",
       "24        4\n",
       "26        1\n",
       "25        1\n",
       "27        1\n",
       "Name: SummaryCat, dtype: int64"
      ]
     },
     "execution_count": 23,
     "metadata": {},
     "output_type": "execute_result"
    }
   ],
   "source": [
    "df['SummaryCat'].value_counts()"
   ]
  },
  {
   "cell_type": "code",
   "execution_count": 24,
   "id": "0ac2c092",
   "metadata": {},
   "outputs": [],
   "source": [
    "d = {1:'Partly Cloudy',2:'Mostly Cloudy',3:'Foggy',4:'Clear',5:'Overcast',6:'Breezy and Overcast',7:'Breezy and Partly Cloudy',\n",
    "    8:'Breezy and Mostly Cloudy',9:'Dry and Partly Cloudy',10:'Windy and Partly Cloudy',11:'Light Rain',12:'Breezy',\n",
    "    13:'Windy and Overcast',14:'Humid and Mostly Cloudy',15:'Drizzle',16:'Windy and Mostly Cloudy',17:'Breezy and Foggy',\n",
    "    18:'Dry',19:'Humid and Partly Cloudy',20:'Dry and Mostly Cloudy',21:'Rain',22:'Windy',23:'Humid and Overcast',\n",
    "    24:'Windy and Foggy',25:'Dangerously Windy and Partly Cloudy',26:'Windy and Dry',27:'Breezy and Dry'}"
   ]
  },
  {
   "cell_type": "code",
   "execution_count": 25,
   "id": "546a0982",
   "metadata": {},
   "outputs": [],
   "source": [
    "def change_category1(Summary):\n",
    "    if Summary=='Partly Cloudy':\n",
    "        return 1\n",
    "    elif Summary=='Mostly Cloudy':\n",
    "        return 2\n",
    "    elif Summary=='Foggy':\n",
    "        return 3\n",
    "    elif Summary=='Clear':\n",
    "        return 4\n",
    "    elif Summary=='Overcast':\n",
    "        return 5\n",
    "    elif Summary=='Breezy and Overcast' or 'Breezy and Mostly Cloudy' or 'Breezy and Partly Cloudy' or 'Breezy' or 'Breezy and Dry' or 'Breezy and Foggy':\n",
    "        return 6\n",
    "    elif Summary=='Dry and Partly Cloudy' or 'Dry' or 'Dry and Mostly Cloudy':\n",
    "        return 7\n",
    "    elif Summary=='Windy and Partly Cloudy' or 'Dangerously Windy and Partly Cloudy' or 'Windy and Overcast' or 'Windy and Mostly Cloudy' or 'Windy' or 'Windy and Foggy' or 'Windy and Dry':\n",
    "        return 8\n",
    "    elif Summary=='Light Rain' or 'Drizzle' or 'Rain':\n",
    "        return 9\n",
    "    elif Summary=='Humid and Mostly Cloudy' or 'Humid and Overcast' or 'Humid and Partly Cloudy':\n",
    "        return 10\n"
   ]
  },
  {
   "cell_type": "code",
   "execution_count": 26,
   "id": "076bf6f4",
   "metadata": {},
   "outputs": [],
   "source": [
    "df['SummaryCat2'] = df['Summary'].apply(change_category1)"
   ]
  },
  {
   "cell_type": "code",
   "execution_count": 27,
   "id": "7858b38b",
   "metadata": {
    "scrolled": true
   },
   "outputs": [
    {
     "data": {
      "text/html": [
       "<div>\n",
       "<style scoped>\n",
       "    .dataframe tbody tr th:only-of-type {\n",
       "        vertical-align: middle;\n",
       "    }\n",
       "\n",
       "    .dataframe tbody tr th {\n",
       "        vertical-align: top;\n",
       "    }\n",
       "\n",
       "    .dataframe thead th {\n",
       "        text-align: right;\n",
       "    }\n",
       "</style>\n",
       "<table border=\"1\" class=\"dataframe\">\n",
       "  <thead>\n",
       "    <tr style=\"text-align: right;\">\n",
       "      <th></th>\n",
       "      <th>Summary</th>\n",
       "      <th>Precip Type</th>\n",
       "      <th>Temperature (C)</th>\n",
       "      <th>Apparent Temperature (C)</th>\n",
       "      <th>Humidity</th>\n",
       "      <th>Wind Speed (km/h)</th>\n",
       "      <th>Wind Bearing (degrees)</th>\n",
       "      <th>Visibility (km)</th>\n",
       "      <th>Pressure (millibars)</th>\n",
       "      <th>Daily Summary</th>\n",
       "      <th>date</th>\n",
       "      <th>year</th>\n",
       "      <th>month</th>\n",
       "      <th>day</th>\n",
       "      <th>hour</th>\n",
       "      <th>SummaryCat</th>\n",
       "      <th>SummaryCat2</th>\n",
       "    </tr>\n",
       "  </thead>\n",
       "  <tbody>\n",
       "    <tr>\n",
       "      <th>0</th>\n",
       "      <td>Partly Cloudy</td>\n",
       "      <td>rain</td>\n",
       "      <td>9.472222</td>\n",
       "      <td>7.388889</td>\n",
       "      <td>0.89</td>\n",
       "      <td>14.1197</td>\n",
       "      <td>251.0</td>\n",
       "      <td>15.8263</td>\n",
       "      <td>1015.13</td>\n",
       "      <td>Partly cloudy throughout the day.</td>\n",
       "      <td>2006-04-01</td>\n",
       "      <td>2006</td>\n",
       "      <td>4</td>\n",
       "      <td>1</td>\n",
       "      <td>0</td>\n",
       "      <td>1</td>\n",
       "      <td>1</td>\n",
       "    </tr>\n",
       "    <tr>\n",
       "      <th>1</th>\n",
       "      <td>Partly Cloudy</td>\n",
       "      <td>rain</td>\n",
       "      <td>9.355556</td>\n",
       "      <td>7.227778</td>\n",
       "      <td>0.86</td>\n",
       "      <td>14.2646</td>\n",
       "      <td>259.0</td>\n",
       "      <td>15.8263</td>\n",
       "      <td>1015.63</td>\n",
       "      <td>Partly cloudy throughout the day.</td>\n",
       "      <td>2006-04-01</td>\n",
       "      <td>2006</td>\n",
       "      <td>4</td>\n",
       "      <td>1</td>\n",
       "      <td>1</td>\n",
       "      <td>1</td>\n",
       "      <td>1</td>\n",
       "    </tr>\n",
       "    <tr>\n",
       "      <th>2</th>\n",
       "      <td>Mostly Cloudy</td>\n",
       "      <td>rain</td>\n",
       "      <td>9.377778</td>\n",
       "      <td>9.377778</td>\n",
       "      <td>0.89</td>\n",
       "      <td>3.9284</td>\n",
       "      <td>204.0</td>\n",
       "      <td>14.9569</td>\n",
       "      <td>1015.94</td>\n",
       "      <td>Partly cloudy throughout the day.</td>\n",
       "      <td>2006-04-01</td>\n",
       "      <td>2006</td>\n",
       "      <td>4</td>\n",
       "      <td>1</td>\n",
       "      <td>2</td>\n",
       "      <td>2</td>\n",
       "      <td>2</td>\n",
       "    </tr>\n",
       "    <tr>\n",
       "      <th>3</th>\n",
       "      <td>Partly Cloudy</td>\n",
       "      <td>rain</td>\n",
       "      <td>8.288889</td>\n",
       "      <td>5.944444</td>\n",
       "      <td>0.83</td>\n",
       "      <td>14.1036</td>\n",
       "      <td>269.0</td>\n",
       "      <td>15.8263</td>\n",
       "      <td>1016.41</td>\n",
       "      <td>Partly cloudy throughout the day.</td>\n",
       "      <td>2006-04-01</td>\n",
       "      <td>2006</td>\n",
       "      <td>4</td>\n",
       "      <td>1</td>\n",
       "      <td>3</td>\n",
       "      <td>1</td>\n",
       "      <td>1</td>\n",
       "    </tr>\n",
       "    <tr>\n",
       "      <th>4</th>\n",
       "      <td>Mostly Cloudy</td>\n",
       "      <td>rain</td>\n",
       "      <td>8.755556</td>\n",
       "      <td>6.977778</td>\n",
       "      <td>0.83</td>\n",
       "      <td>11.0446</td>\n",
       "      <td>259.0</td>\n",
       "      <td>15.8263</td>\n",
       "      <td>1016.51</td>\n",
       "      <td>Partly cloudy throughout the day.</td>\n",
       "      <td>2006-04-01</td>\n",
       "      <td>2006</td>\n",
       "      <td>4</td>\n",
       "      <td>1</td>\n",
       "      <td>4</td>\n",
       "      <td>2</td>\n",
       "      <td>2</td>\n",
       "    </tr>\n",
       "  </tbody>\n",
       "</table>\n",
       "</div>"
      ],
      "text/plain": [
       "         Summary Precip Type  Temperature (C)  Apparent Temperature (C)  \\\n",
       "0  Partly Cloudy        rain         9.472222                  7.388889   \n",
       "1  Partly Cloudy        rain         9.355556                  7.227778   \n",
       "2  Mostly Cloudy        rain         9.377778                  9.377778   \n",
       "3  Partly Cloudy        rain         8.288889                  5.944444   \n",
       "4  Mostly Cloudy        rain         8.755556                  6.977778   \n",
       "\n",
       "   Humidity  Wind Speed (km/h)  Wind Bearing (degrees)  Visibility (km)  \\\n",
       "0      0.89            14.1197                   251.0          15.8263   \n",
       "1      0.86            14.2646                   259.0          15.8263   \n",
       "2      0.89             3.9284                   204.0          14.9569   \n",
       "3      0.83            14.1036                   269.0          15.8263   \n",
       "4      0.83            11.0446                   259.0          15.8263   \n",
       "\n",
       "   Pressure (millibars)                      Daily Summary        date  year  \\\n",
       "0               1015.13  Partly cloudy throughout the day.  2006-04-01  2006   \n",
       "1               1015.63  Partly cloudy throughout the day.  2006-04-01  2006   \n",
       "2               1015.94  Partly cloudy throughout the day.  2006-04-01  2006   \n",
       "3               1016.41  Partly cloudy throughout the day.  2006-04-01  2006   \n",
       "4               1016.51  Partly cloudy throughout the day.  2006-04-01  2006   \n",
       "\n",
       "   month  day  hour  SummaryCat  SummaryCat2  \n",
       "0      4    1     0           1            1  \n",
       "1      4    1     1           1            1  \n",
       "2      4    1     2           2            2  \n",
       "3      4    1     3           1            1  \n",
       "4      4    1     4           2            2  "
      ]
     },
     "execution_count": 27,
     "metadata": {},
     "output_type": "execute_result"
    }
   ],
   "source": [
    "df.head()"
   ]
  },
  {
   "cell_type": "code",
   "execution_count": 28,
   "id": "f4dc3468",
   "metadata": {},
   "outputs": [
    {
     "data": {
      "image/png": "[encoded data removed]",
      "text/plain": [
       "<Figure size 720x432 with 2 Axes>"
      ]
     },
     "metadata": {
      "needs_background": "light"
     },
     "output_type": "display_data"
    }
   ],
   "source": [
    "f,ax = plt.subplots(figsize=(10 ,6))\n",
    "sns.heatmap(df.corr(), annot=True, linewidths=.5, fmt= '.1f',ax=ax)\n",
    "\n",
    "plt.show()"
   ]
  },
  {
   "cell_type": "code",
   "execution_count": 29,
   "id": "f2bc79fa",
   "metadata": {},
   "outputs": [
    {
     "data": {
      "text/plain": [
       "<AxesSubplot:xlabel='count', ylabel='SummaryCat2'>"
      ]
     },
     "execution_count": 29,
     "metadata": {},
     "output_type": "execute_result"
    },
    {
     "data": {
      "image/png": "[encoded data removed]",
      "text/plain": [
       "<Figure size 576x360 with 1 Axes>"
      ]
     },
     "metadata": {
      "needs_background": "light"
     },
     "output_type": "display_data"
    }
   ],
   "source": [
    "rcParams['figure.figsize'] = 8, 5\n",
    "sns.countplot(y=df['SummaryCat2'])"
   ]
  },
  {
   "cell_type": "code",
   "execution_count": 30,
   "id": "8a9114e1",
   "metadata": {
    "scrolled": true
   },
   "outputs": [
    {
     "data": {
      "text/plain": [
       "1    31733\n",
       "2    28094\n",
       "5    16597\n",
       "4    10890\n",
       "3     7148\n",
       "6     1991\n",
       "Name: SummaryCat2, dtype: int64"
      ]
     },
     "execution_count": 30,
     "metadata": {},
     "output_type": "execute_result"
    }
   ],
   "source": [
    "df['SummaryCat2'].value_counts()"
   ]
  },
  {
   "cell_type": "code",
   "execution_count": 31,
   "id": "e27ddf42",
   "metadata": {},
   "outputs": [
    {
     "data": {
      "text/plain": [
       "Index(['Summary', 'Precip Type', 'Temperature (C)', 'Apparent Temperature (C)',\n",
       "       'Humidity', 'Wind Speed (km/h)', 'Wind Bearing (degrees)',\n",
       "       'Visibility (km)', 'Pressure (millibars)', 'Daily Summary', 'date',\n",
       "       'year', 'month', 'day', 'hour', 'SummaryCat', 'SummaryCat2'],\n",
       "      dtype='object')"
      ]
     },
     "execution_count": 31,
     "metadata": {},
     "output_type": "execute_result"
    }
   ],
   "source": [
    "df.columns"
   ]
  },
  {
   "cell_type": "code",
   "execution_count": 49,
   "id": "d43e04f3",
   "metadata": {},
   "outputs": [
    {
     "name": "stdout",
     "output_type": "stream",
     "text": [
      "Linear Regression\n",
      "\n",
      "\n",
      "Calculating some regression quality metrics\n",
      "MSE =  2.3553086062693054\n",
      "R2 =  0.10599278000997048\n"
     ]
    },
    {
     "data": {
      "text/plain": [
       "0.4225777143227984"
      ]
     },
     "execution_count": 49,
     "metadata": {},
     "output_type": "execute_result"
    }
   ],
   "source": [
    "from sklearn.metrics import accuracy_score\n",
    "lr = linear_model.LinearRegression()\n",
    "x_f = ['Temperature (C)','Humidity','Wind Speed (km/h)']\n",
    "x = df[x_f]\n",
    "y = df['SummaryCat']\n",
    "\n",
    "X_train, X_test, y_train, y_test = train_test_split(x,y,test_size=0.33,shuffle=True, random_state=0)\n",
    "\n",
    "print(\"Linear Regression\")\n",
    "lr.fit(X_train, y_train)\n",
    "print(\"\\n\\nCalculating some regression quality metrics\")\n",
    "y_pred = lr.predict(X_test)\n",
    "print(\"MSE = \",mean_squared_error(y_test, y_pred))\n",
    "print(\"R2 = \",r2_score(y_test, y_pred))\n",
    "# accuracy_score(y_test, y_pred)\n",
    "from sklearn.ensemble import RandomForestClassifier\n",
    "\n",
    "model = RandomForestClassifier(max_depth=32,n_estimators=120,random_state=1)\n",
    "model.fit(X_train,y_train)\n",
    "y_pred1 = model.predict(X_test)\n",
    "accuracy_score(y_test, y_pred1)"
   ]
  },
  {
   "cell_type": "code",
   "execution_count": 45,
   "id": "bc451bf1",
   "metadata": {},
   "outputs": [
    {
     "name": "stdout",
     "output_type": "stream",
     "text": [
      "Linear Regression\n",
      "\n",
      "\n",
      "Calculating some regression quality metrics\n",
      "MSE =  1.9546474510140452\n",
      "R2 =  0.13002112658714005\n"
     ]
    },
    {
     "data": {
      "text/plain": [
       "0.4237458628074502"
      ]
     },
     "execution_count": 45,
     "metadata": {},
     "output_type": "execute_result"
    }
   ],
   "source": [
    "lr1 = linear_model.LinearRegression()\n",
    "x_f = ['Temperature (C)','Humidity','Wind Speed (km/h)']\n",
    "x = df[x_f]\n",
    "y = df['SummaryCat2']\n",
    "\n",
    "X_train, X_test, y_train, y_test = train_test_split(x,y,test_size=0.33,shuffle=True, random_state=0)\n",
    "\n",
    "print(\"Linear Regression\")\n",
    "lr1.fit(X_train, y_train)\n",
    "print(\"\\n\\nCalculating some regression quality metrics\")\n",
    "y_pred = lr1.predict(X_test)\n",
    "print(\"MSE = \",mean_squared_error(y_test, y_pred))\n",
    "print(\"R2 = \",r2_score(y_test, y_pred))\n",
    "model = RandomForestClassifier(max_depth=32,n_estimators=120,random_state=1)\n",
    "model.fit(X_train,y_train)\n",
    "y_pred1 = model.predict(X_test)\n",
    "accuracy_score(y_test, y_pred1)"
   ]
  },
  {
   "cell_type": "code",
   "execution_count": 52,
   "id": "a0f12fc2",
   "metadata": {},
   "outputs": [
    {
     "name": "stdout",
     "output_type": "stream",
     "text": [
      "Linear Regression\n",
      "\n",
      "\n",
      "Calculating some regression quality metrics\n",
      "MSE =  1.9854880479646397\n",
      "R2 =  0.11629452449501398\n"
     ]
    },
    {
     "data": {
      "text/plain": [
       "0.35647997923291586"
      ]
     },
     "execution_count": 52,
     "metadata": {},
     "output_type": "execute_result"
    }
   ],
   "source": [
    "lr2 = linear_model.LinearRegression()\n",
    "x_f = ['Humidity','Wind Speed (km/h)']\n",
    "x = df[x_f]\n",
    "y = df['SummaryCat2']\n",
    "\n",
    "X_train, X_test, y_train, y_test = train_test_split(x,y,test_size=0.33,shuffle=True, random_state=0)\n",
    "\n",
    "print(\"Linear Regression\")\n",
    "lr2.fit(X_train, y_train)\n",
    "print(\"\\n\\nCalculating some regression quality metrics\")\n",
    "y_pred = lr2.predict(X_test)\n",
    "print(\"MSE = \",mean_squared_error(y_test, y_pred))\n",
    "print(\"R2 = \",r2_score(y_test, y_pred))\n",
    "model = RandomForestClassifier(max_depth=32,n_estimators=120,random_state=1)\n",
    "model.fit(X_train,y_train)\n",
    "y_pred1 = model.predict(X_test)\n",
    "accuracy_score(y_test, y_pred1)"
   ]
  },
  {
   "cell_type": "code",
   "execution_count": 55,
   "id": "b1f21454",
   "metadata": {},
   "outputs": [
    {
     "name": "stdout",
     "output_type": "stream",
     "text": [
      "Linear Regression\n",
      "\n",
      "\n",
      "Calculating some regression quality metrics\n",
      "MSE =  2.391525014009368\n",
      "R2 =  0.09093363102692265\n"
     ]
    },
    {
     "data": {
      "text/plain": [
       "0.35394899084950354"
      ]
     },
     "execution_count": 55,
     "metadata": {},
     "output_type": "execute_result"
    }
   ],
   "source": [
    "lr3 = linear_model.LinearRegression()\n",
    "x_f = ['Humidity','Wind Speed (km/h)']\n",
    "x = df[x_f]\n",
    "y = df['SummaryCat']\n",
    "\n",
    "X_train, X_test, y_train, y_test = train_test_split(x,y,test_size=0.33,shuffle=True, random_state=42)\n",
    "\n",
    "print(\"Linear Regression\")\n",
    "lr3.fit(X_train, y_train) \n",
    "print(\"\\n\\nCalculating some regression quality metrics\")\n",
    "y_pred = lr3.predict(X_test)\n",
    "print(\"MSE = \",mean_squared_error(y_test, y_pred))\n",
    "print(\"R2 = \",r2_score(y_test, y_pred))\n",
    "model = RandomForestClassifier(max_depth=32,n_estimators=120,random_state=1)\n",
    "model.fit(X_train,y_train)\n",
    "y_pred1 = model.predict(X_test)\n",
    "accuracy_score(y_test, y_pred1)"
   ]
  },
  {
   "cell_type": "code",
   "execution_count": 39,
   "id": "5d718b8c",
   "metadata": {},
   "outputs": [
    {
     "data": {
      "image/png": "[encoded data removed]",
      "text/plain": [
       "<Figure size 576x360 with 1 Axes>"
      ]
     },
     "metadata": {
      "needs_background": "light"
     },
     "output_type": "display_data"
    }
   ],
   "source": [
    "boxplot = df.boxplot(column=x_f)"
   ]
  },
  {
   "cell_type": "code",
   "execution_count": 40,
   "id": "5977d51a",
   "metadata": {},
   "outputs": [
    {
     "name": "stdout",
     "output_type": "stream",
     "text": [
      "Old Shape:  (96453, 17)\n",
      "New Shape:  (93425, 17)\n"
     ]
    }
   ],
   "source": [
    "Q1 = np.percentile(df['Wind Speed (km/h)'], 25,\n",
    "                   interpolation = 'midpoint')\n",
    " \n",
    "Q3 = np.percentile(df['Wind Speed (km/h)'], 75,\n",
    "                   interpolation = 'midpoint')\n",
    "IQR = Q3 - Q1\n",
    "\n",
    "print(\"Old Shape: \", df.shape)\n",
    "\n",
    "# Upper bound\n",
    "upper = np.where(df['Wind Speed (km/h)'] >= (Q3+1.5*IQR))\n",
    "# Lower bound\n",
    "lower = np.where(df['Wind Speed (km/h)'] <= (Q1-1.5*IQR))\n",
    "\n",
    "''' Removing the Outliers '''\n",
    "df.drop(upper[0], inplace = True)\n",
    "df.drop(lower[0], inplace = True)\n",
    "\n",
    "print(\"New Shape: \", df.shape)"
   ]
  },
  {
   "cell_type": "code",
   "execution_count": 41,
   "id": "2d8daa86",
   "metadata": {},
   "outputs": [
    {
     "data": {
      "image/png": "[encoded data removed]",
      "text/plain": [
       "<Figure size 576x360 with 1 Axes>"
      ]
     },
     "metadata": {
      "needs_background": "light"
     },
     "output_type": "display_data"
    }
   ],
   "source": [
    "boxplot = df.boxplot(column=x_f)"
   ]
  },
  {
   "cell_type": "code",
   "execution_count": 42,
   "id": "6ffcfe8b",
   "metadata": {},
   "outputs": [
    {
     "name": "stdout",
     "output_type": "stream",
     "text": [
      "Old Shape:  (93425, 17)\n",
      "New Shape:  (93386, 17)\n"
     ]
    }
   ],
   "source": [
    "Q11 = np.percentile(df['Temperature (C)'], 25,\n",
    "                   interpolation = 'midpoint')\n",
    " \n",
    "Q33 = np.percentile(df['Temperature (C)'], 75,\n",
    "                   interpolation = 'midpoint')\n",
    "IQR1 = Q33 - Q11\n",
    "\n",
    "print(\"Old Shape: \", df.shape)\n",
    "\n",
    "# Upper bound\n",
    "upper1 = np.where(df['Temperature (C)'] >= (Q33+1.5*IQR1))\n",
    "# Lower bound\n",
    "lower1 = np.where(df['Temperature (C)'] <= (Q11-1.5*IQR1))\n",
    "\n",
    "''' Removing the Outliers '''\n",
    "df.drop(upper1[0], inplace = True)\n",
    "df.drop(lower1[0], inplace = True)\n",
    "\n",
    "print(\"New Shape: \", df.shape)"
   ]
  },
  {
   "cell_type": "code",
   "execution_count": 43,
   "id": "f5b157f4",
   "metadata": {},
   "outputs": [
    {
     "data": {
      "image/png": "[encoded data removed]",
      "text/plain": [
       "<Figure size 576x360 with 1 Axes>"
      ]
     },
     "metadata": {
      "needs_background": "light"
     },
     "output_type": "display_data"
    }
   ],
   "source": [
    "boxplot = df.boxplot(column=x_f)"
   ]
  },
  {
   "cell_type": "code",
   "execution_count": 48,
   "id": "bf492c40",
   "metadata": {},
   "outputs": [],
   "source": [
    "from sklearn.naive_bayes import GaussianNB\n"
   ]
  },
  {
   "cell_type": "code",
   "execution_count": 56,
   "id": "7cc70981",
   "metadata": {},
   "outputs": [
    {
     "data": {
      "text/plain": [
       "GaussianNB()"
      ]
     },
     "execution_count": 56,
     "metadata": {},
     "output_type": "execute_result"
    }
   ],
   "source": [
    "classifier = GaussianNB()\n",
    "classifier.fit(x,y)\n"
   ]
  },
  {
   "cell_type": "code",
   "execution_count": 57,
   "id": "8f6e42bf",
   "metadata": {},
   "outputs": [
    {
     "data": {
      "text/plain": [
       "0.4090441822114664"
      ]
     },
     "execution_count": 57,
     "metadata": {},
     "output_type": "execute_result"
    }
   ],
   "source": [
    "classifier.score(x,y)\n"
   ]
  },
  {
   "cell_type": "code",
   "execution_count": null,
   "id": "6a85bfbd",
   "metadata": {},
   "outputs": [],
   "source": []
  }
 ],
 "metadata": {
  "kernelspec": {
   "display_name": "Python 3 (ipykernel)",
   "language": "python",
   "name": "python3"
  },
  "language_info": {
   "codemirror_mode": {
    "name": "ipython",
    "version": 3
   },
   "file_extension": ".py",
   "mimetype": "text/x-python",
   "name": "python",
   "nbconvert_exporter": "python",
   "pygments_lexer": "ipython3",
   "version": "3.8.11"
  }
 },
 "nbformat": 4,
 "nbformat_minor": 5
}
